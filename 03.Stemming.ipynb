{
 "cells": [
  {
   "attachments": {},
   "cell_type": "markdown",
   "metadata": {},
   "source": [
    "## Pymorphy2\n",
    "Морфологический анализатор для русского языка (http://pymorphy2.readthedocs.org/)."
   ]
  },
  {
   "cell_type": "code",
   "execution_count": 1,
   "metadata": {
    "collapsed": true,
    "jupyter": {
     "outputs_hidden": true
    }
   },
   "outputs": [],
   "source": [
    "import pymorphy2\n",
    "\n",
    "def pymorphy2_311_hotfix():\n",
    "    # https://github.com/pymorphy2/pymorphy2/issues/160#issuecomment-1486657176\n",
    "    # https://github.com/natasha/yargy/blob/master/yargy/morph.py\n",
    "\n",
    "    from inspect import getfullargspec\n",
    "    from pymorphy2.units.base import BaseAnalyzerUnit\n",
    "\n",
    "    def _get_param_names_311(klass):\n",
    "        if klass.__init__ is object.__init__:\n",
    "            return []\n",
    "        args = getfullargspec(klass.__init__).args\n",
    "        return sorted(args[1:])\n",
    "\n",
    "    setattr(BaseAnalyzerUnit, '_get_param_names', _get_param_names_311)\n",
    "\n",
    "pymorphy2_311_hotfix()\n",
    "\n",
    "morph = pymorphy2.MorphAnalyzer(lang=\"ru\")"
   ]
  },
  {
   "attachments": {},
   "cell_type": "markdown",
   "metadata": {},
   "source": [
    "Метод *morph.parse()* возвращает список объектов типа Parse с информацией о формах слова. Анализатор возвращает несколько вариантов разбора, так как на основе информации о том, как слово пишется  понять, какой разбор правильный, нельзя (нужен контекст)."
   ]
  },
  {
   "cell_type": "code",
   "execution_count": 2,
   "metadata": {
    "collapsed": true,
    "jupyter": {
     "outputs_hidden": true
    }
   },
   "outputs": [],
   "source": [
    "def pr(lst):\n",
    "    for x in lst:\n",
    "        print('{}\\t{}'.format(x.normal_form, x.tag))"
   ]
  },
  {
   "cell_type": "code",
   "execution_count": 3,
   "metadata": {},
   "outputs": [
    {
     "name": "stdout",
     "output_type": "stream",
     "text": [
      "стекло\tNOUN,inan,neut sing,nomn\n",
      "стекло\tNOUN,inan,neut sing,accs\n",
      "стечь\tVERB,perf,intr neut,sing,past,indc\n"
     ]
    }
   ],
   "source": [
    "pr(morph.parse('стекло'))"
   ]
  },
  {
   "attachments": {},
   "cell_type": "markdown",
   "metadata": {},
   "source": [
    "В данном примере слово \"стекло\" может быть разобрано как глагол, как существительное в именительном падеже и сущиствительное в винительном падеже. \n",
    "Граммема - какая-то грамматическая характеристика слова (падеж, род и т.д.). Тэг - это набор граммем. В данном случае, для слова *стечь*:  \n",
    "**глагол**, **совершенный вид**, **средний род**, **единственное число**, **прошедшее время**.\n",
    "\n",
    "Полный список граммем: http://opencorpora.org/dict.php?act=gram"
   ]
  },
  {
   "attachments": {},
   "cell_type": "markdown",
   "metadata": {},
   "source": [
    "Как может быть разобрано слово *машина*? Примеры предложений с каждым вариантом?"
   ]
  },
  {
   "cell_type": "code",
   "execution_count": 4,
   "metadata": {},
   "outputs": [
    {
     "name": "stdout",
     "output_type": "stream",
     "text": [
      "машина\tNOUN,inan,femn sing,nomn\n",
      "машин\tNOUN,anim,masc,Sgtm,Surn sing,gent\n",
      "машин\tNOUN,anim,masc,Sgtm,Surn sing,accs\n",
      "машин\tNOUN,anim,femn,Sgtm,Surn sing,nomn\n"
     ]
    }
   ],
   "source": [
    "pr(morph.parse('машина'))"
   ]
  },
  {
   "attachments": {},
   "cell_type": "markdown",
   "metadata": {},
   "source": [
    "Слово *дань*? Примеры?"
   ]
  },
  {
   "cell_type": "code",
   "execution_count": 5,
   "metadata": {},
   "outputs": [
    {
     "name": "stdout",
     "output_type": "stream",
     "text": [
      "дань\tNOUN,inan,femn sing,nomn\n",
      "дань\tNOUN,inan,femn sing,accs\n",
      "даня\tNOUN,anim,masc,Name sing,voct,Infr\n",
      "даня\tNOUN,anim,masc,Name plur,gent\n",
      "даня\tNOUN,anim,masc,Name plur,accs\n"
     ]
    }
   ],
   "source": [
    "pr(morph.parse('дань'))"
   ]
  },
  {
   "attachments": {},
   "cell_type": "markdown",
   "metadata": {},
   "source": [
    "В случае, если слово отсутствует в словаре, разбор производится эвристически:"
   ]
  },
  {
   "cell_type": "code",
   "execution_count": 6,
   "metadata": {},
   "outputs": [
    {
     "name": "stdout",
     "output_type": "stream",
     "text": [
      "бокренок\tNOUN,inan,masc sing,nomn\n",
      "бокренок\tNOUN,inan,masc sing,accs\n",
      "бокрёнок\tNOUN,anim,masc sing,nomn\n",
      "бокренка\tNOUN,inan,femn plur,gent\n"
     ]
    }
   ],
   "source": [
    "pr(morph.parse('бокренок'))"
   ]
  },
  {
   "cell_type": "code",
   "execution_count": 7,
   "metadata": {},
   "outputs": [
    {
     "name": "stdout",
     "output_type": "stream",
     "text": [
      "на\tPREP\n",
      "на\tPRCL\n",
      "на\tINTJ\n"
     ]
    }
   ],
   "source": [
    "pr(morph.parse('на'))"
   ]
  },
  {
   "cell_type": "code",
   "execution_count": 8,
   "metadata": {},
   "outputs": [
    {
     "name": "stdout",
     "output_type": "stream",
     "text": [
      "человек\tNOUN,anim,masc plur,nomn\n"
     ]
    }
   ],
   "source": [
    "pr(morph.parse('люди'))"
   ]
  },
  {
   "attachments": {},
   "cell_type": "markdown",
   "metadata": {},
   "source": [
    "### MyStem\n",
    "https://api.yandex.ru/mystem/\n",
    "\n",
    "Можно загрузить только в виде исполняемого файла, pymystem3 - обертка. Формально при разборе может учитывать контекст. "
   ]
  },
  {
   "cell_type": "code",
   "execution_count": 10,
   "metadata": {},
   "outputs": [],
   "source": [
    "from pymystem3 import Mystem\n",
    "mystem = Mystem()"
   ]
  },
  {
   "cell_type": "code",
   "execution_count": 10,
   "metadata": {},
   "outputs": [
    {
     "data": {
      "text/plain": [
       "[{'analysis': [{'lex': 'машина', 'wt': 0.999173444, 'gr': 'S,жен,неод=им,ед'}],\n",
       "  'text': 'машина'},\n",
       " {'text': '\\n'}]"
      ]
     },
     "execution_count": 10,
     "metadata": {},
     "output_type": "execute_result"
    }
   ],
   "source": [
    "mystem.analyze('машина')"
   ]
  },
  {
   "cell_type": "code",
   "execution_count": 11,
   "metadata": {},
   "outputs": [
    {
     "data": {
      "text/plain": [
       "[{'analysis': [{'lex': 'ловить', 'wt': 1, 'gr': 'V,несов,пе=инф'}],\n",
       "  'text': 'ловить'},\n",
       " {'text': ' '},\n",
       " {'analysis': [{'lex': 'глаз', 'wt': 1, 'gr': 'S,муж,неод=твор,мн'}],\n",
       "  'text': 'глазами'},\n",
       " {'text': '\\n'}]"
      ]
     },
     "execution_count": 11,
     "metadata": {},
     "output_type": "execute_result"
    }
   ],
   "source": [
    "mystem.analyze('ловить глазами')"
   ]
  },
  {
   "cell_type": "code",
   "execution_count": 12,
   "metadata": {},
   "outputs": [
    {
     "data": {
      "text/plain": [
       "[{'analysis': [{'lex': 'весь',\n",
       "    'wt': 0.5638720238,\n",
       "    'gr': 'APRO=(им,мн|вин,ед,сред|им,ед,сред|вин,мн,неод)'}],\n",
       "  'text': 'Всё'},\n",
       " {'text': ' '},\n",
       " {'analysis': [{'lex': 'это',\n",
       "    'wt': 0.7809833731,\n",
       "    'gr': 'SPRO,ед,сред,неод=(вин|им)'}],\n",
       "  'text': 'это'},\n",
       " {'text': ' '},\n",
       " {'analysis': [{'lex': 'стекло',\n",
       "    'wt': 0.9853860572,\n",
       "    'gr': 'S,сред,неод=(вин,ед|им,ед)'}],\n",
       "  'text': 'стекло'},\n",
       " {'text': ' '},\n",
       " {'analysis': [{'lex': 'на', 'wt': 0.9989522965, 'gr': 'PR='}], 'text': 'на'},\n",
       " {'text': ' '},\n",
       " {'analysis': [{'lex': 'помойка', 'wt': 1, 'gr': 'S,жен,неод=вин,ед'}],\n",
       "  'text': 'помойку'},\n",
       " {'text': '\\n'}]"
      ]
     },
     "execution_count": 12,
     "metadata": {},
     "output_type": "execute_result"
    }
   ],
   "source": [
    "mystem.analyze('Всё это стекло на помойку')"
   ]
  },
  {
   "attachments": {},
   "cell_type": "markdown",
   "metadata": {},
   "source": [
    "### Snowball\n",
    "\n",
    "Стемминг - выделение основы. \n",
    "http://snowball.tartarus.org - стеммеры для разных языков. Будем использовать обертку из библиотеки NLTK."
   ]
  },
  {
   "cell_type": "code",
   "execution_count": 13,
   "metadata": {
    "collapsed": true,
    "jupyter": {
     "outputs_hidden": true
    }
   },
   "outputs": [],
   "source": [
    "from nltk.stem.snowball import RussianStemmer \n",
    "rs = RussianStemmer()"
   ]
  },
  {
   "cell_type": "code",
   "execution_count": 14,
   "metadata": {},
   "outputs": [
    {
     "data": {
      "text/plain": [
       "('бутявк', 'мук', 'стекл', 'машин', 'машин')"
      ]
     },
     "execution_count": 14,
     "metadata": {},
     "output_type": "execute_result"
    }
   ],
   "source": [
    "(rs.stem('бутявку'),\n",
    "rs.stem('муки'),\n",
    "rs.stem('стекло'),\n",
    "rs.stem('машина'),\n",
    "rs.stem('машину'))"
   ]
  },
  {
   "cell_type": "code",
   "execution_count": null,
   "metadata": {
    "collapsed": true,
    "jupyter": {
     "outputs_hidden": true
    }
   },
   "outputs": [],
   "source": []
  }
 ],
 "metadata": {
  "kernelspec": {
   "display_name": "venv_nlp (3.11.0)",
   "language": "python",
   "name": "python3"
  },
  "language_info": {
   "codemirror_mode": {
    "name": "ipython",
    "version": 3
   },
   "file_extension": ".py",
   "mimetype": "text/x-python",
   "name": "python",
   "nbconvert_exporter": "python",
   "pygments_lexer": "ipython3",
   "version": "3.11.0rc1"
  }
 },
 "nbformat": 4,
 "nbformat_minor": 4
}
